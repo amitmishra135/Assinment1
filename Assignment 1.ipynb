{
 "cells": [
  {
   "cell_type": "markdown",
   "id": "c7910c78",
   "metadata": {},
   "source": [
    "Q1=> Create a variable conataining following types of data:\n",
    "    string,list,float,tuple"
   ]
  },
  {
   "cell_type": "code",
   "execution_count": 2,
   "id": "aae9b0b8",
   "metadata": {},
   "outputs": [
    {
     "data": {
      "text/plain": [
       "str"
      ]
     },
     "execution_count": 2,
     "metadata": {},
     "output_type": "execute_result"
    }
   ],
   "source": [
    "# (i) String variable\n",
    "str = 'Amit'\n",
    "type(str)"
   ]
  },
  {
   "cell_type": "code",
   "execution_count": 3,
   "id": "f32603a8",
   "metadata": {},
   "outputs": [
    {
     "data": {
      "text/plain": [
       "list"
      ]
     },
     "execution_count": 3,
     "metadata": {},
     "output_type": "execute_result"
    }
   ],
   "source": [
    "# (ii) list variable\n",
    "l = [2,4,1,6]\n",
    "type(l)"
   ]
  },
  {
   "cell_type": "code",
   "execution_count": 4,
   "id": "7d999f71",
   "metadata": {},
   "outputs": [
    {
     "data": {
      "text/plain": [
       "float"
      ]
     },
     "execution_count": 4,
     "metadata": {},
     "output_type": "execute_result"
    }
   ],
   "source": [
    "# (iii) Float variable\n",
    "f = 10.25\n",
    "type(f)"
   ]
  },
  {
   "cell_type": "code",
   "execution_count": 5,
   "id": "f54db70a",
   "metadata": {},
   "outputs": [
    {
     "data": {
      "text/plain": [
       "tuple"
      ]
     },
     "execution_count": 5,
     "metadata": {},
     "output_type": "execute_result"
    }
   ],
   "source": [
    "#(iv) tuple variable\n",
    "t = ('a','b','c','d')\n",
    "type(t)"
   ]
  },
  {
   "cell_type": "markdown",
   "id": "dbe67410",
   "metadata": {},
   "source": [
    "Q2=> Given are some following variable containing data"
   ]
  },
  {
   "cell_type": "code",
   "execution_count": 10,
   "id": "eb16d3e8",
   "metadata": {},
   "outputs": [
    {
     "name": "stdout",
     "output_type": "stream",
     "text": [
      "<class 'str'>\n",
      "<class 'str'>\n",
      "<class 'list'>\n",
      "<class 'int'>\n"
     ]
    }
   ],
   "source": [
    "var=''\n",
    "var2='[ds,ML,Python]'\n",
    "var3=['DS','ML','Python']\n",
    "var4=1\n",
    "print(type(var))\n",
    "print(type(var2))\n",
    "print(type(var3))\n",
    "print(type(var4))"
   ]
  },
  {
   "cell_type": "markdown",
   "id": "6e4a3fa6",
   "metadata": {},
   "source": [
    "Q3=> Explain the use of the following operators using an example:\n",
    "(i) /\n",
    "(ii) %\n",
    "(iii) //\n",
    "(iv) **"
   ]
  },
  {
   "cell_type": "code",
   "execution_count": 11,
   "id": "933354b5",
   "metadata": {},
   "outputs": [
    {
     "name": "stdout",
     "output_type": "stream",
     "text": [
      "Division:  3.5\n",
      "Modulo:  1\n",
      "Floor Division:  3\n",
      "Power:  49\n"
     ]
    }
   ],
   "source": [
    "a = 7\n",
    "b = 2  \n",
    "\n",
    "#(i) division\n",
    "print ('Division: ', a / b) \n",
    "\n",
    "#(ii) modulo gives reminder\n",
    "print ('Modulo: ', a % b) \n",
    "\n",
    "#(iii) floor division\n",
    "print ('Floor Division: ', a // b) \n",
    "\n",
    "#(iv) a to the power b\n",
    "print ('Power: ', a ** b) "
   ]
  },
  {
   "cell_type": "markdown",
   "id": "3da952f6",
   "metadata": {},
   "source": [
    "Q4=> Create a list of length 10 of your choice containing multiple types of data. Using for loop print the\n",
    "     element and its data type."
   ]
  },
  {
   "cell_type": "code",
   "execution_count": 12,
   "id": "ed92ce65",
   "metadata": {},
   "outputs": [
    {
     "name": "stdout",
     "output_type": "stream",
     "text": [
      "1 data type is <class 'int'>\n",
      "amit data type is <class 'str'>\n",
      "2.3 data type is <class 'float'>\n",
      "str data type is <class 'str'>\n",
      "[1, 2, 3] data type is <class 'list'>\n",
      "(4, 5, 6) data type is <class 'tuple'>\n",
      "125 data type is <class 'int'>\n",
      "22.0 data type is <class 'float'>\n",
      "shivam data type is <class 'str'>\n",
      "pwskill data type is <class 'str'>\n"
     ]
    }
   ],
   "source": [
    "l = [1,'amit',2.3,\"str\",[1,2,3],(4,5,6),125,22.00,'shivam','pwskill']\n",
    "for i in range(len(l)):\n",
    "    print(l[i],\"data type is\",type(l[i]))"
   ]
  },
  {
   "cell_type": "markdown",
   "id": "59b453e0",
   "metadata": {},
   "source": [
    "Q5=> Using a while loop, verify if the number A is purely divisible by number B and if so then how many\n",
    "times it can be divisible."
   ]
  },
  {
   "cell_type": "code",
   "execution_count": 3,
   "id": "39957dab",
   "metadata": {},
   "outputs": [
    {
     "name": "stdout",
     "output_type": "stream",
     "text": [
      "Enter dividend number:10\n",
      "Enter the divisor number:2\n",
      "1 times\n"
     ]
    }
   ],
   "source": [
    "A = int(input('Enter dividend number:'))\n",
    "B = int(input('Enter the divisor number:'))\n",
    "count=0\n",
    "if A%B==0:\n",
    "    while(A>B and A%B==0):\n",
    "        count=count+1\n",
    "        A=A/B\n",
    "if count>0:\n",
    "    print(count,\"times\")\n",
    "else:\n",
    "    print(\"Not divisible\")"
   ]
  },
  {
   "cell_type": "markdown",
   "id": "0d17dce6",
   "metadata": {},
   "source": [
    "Q6=> Create a list containing 25 int type data. Using for loop and if-else condition print if the element is\n",
    "divisible by 3 or not."
   ]
  },
  {
   "cell_type": "code",
   "execution_count": 4,
   "id": "44bda073",
   "metadata": {},
   "outputs": [
    {
     "name": "stdout",
     "output_type": "stream",
     "text": [
      "divisible by 3 [3, 6, 9, 12, 15, 18, 21, 24]\n",
      "Not divisible by 3 [1, 2, 4, 5, 7, 8, 10, 11, 13, 14, 16, 17, 19, 20, 22, 23, 25]\n"
     ]
    }
   ],
   "source": [
    "l=[1,2,3,4,5,6,7,8,9,10,11,12,13,14,15,16,17,18,19,20,21,22,23,24,25]\n",
    "l1=[]\n",
    "l2=[]\n",
    "for i in l:\n",
    "    if i%3==0:\n",
    "        l1.append(i)\n",
    "    else:\n",
    "            l2.append(i)\n",
    "print(\"divisible by 3\",l1)\n",
    "print(\"Not divisible by 3\",l2)"
   ]
  },
  {
   "cell_type": "markdown",
   "id": "efaa6aca",
   "metadata": {},
   "source": [
    "Q7=> What do you understand about mutable and immutable data types? Give examples for both showing\n",
    "this property.\n",
    "\n",
    "Answer=> \n",
    "\n",
    "        Mutable data type:\n",
    "        A mutable object can be changed after it is created.\n",
    "        Examples : List, Set, Dictionary \n",
    "        \n",
    "        Immutable data type:\n",
    "        An immutable object cannot be changed after it is created.\n",
    "        Exg: tuples, int, float, bool."
   ]
  },
  {
   "cell_type": "code",
   "execution_count": 6,
   "id": "df69676a",
   "metadata": {},
   "outputs": [
    {
     "data": {
      "text/plain": [
       "[1, 3, 4, 5]"
      ]
     },
     "execution_count": 6,
     "metadata": {},
     "output_type": "execute_result"
    }
   ],
   "source": [
    "# for example of list as mutable data type we can changes after creating\n",
    "l1=[1,2,3,4]\n",
    "l1.append(5)\n",
    "l1.remove(2)\n",
    "l1"
   ]
  },
  {
   "cell_type": "code",
   "execution_count": 7,
   "id": "a990b8f4",
   "metadata": {},
   "outputs": [
    {
     "ename": "AttributeError",
     "evalue": "'tuple' object has no attribute 'append'",
     "output_type": "error",
     "traceback": [
      "\u001b[1;31m---------------------------------------------------------------------------\u001b[0m",
      "\u001b[1;31mAttributeError\u001b[0m                            Traceback (most recent call last)",
      "Cell \u001b[1;32mIn[7], line 3\u001b[0m\n\u001b[0;32m      1\u001b[0m \u001b[38;5;66;03m#tuple is immutable data type so it get error after any updation\u001b[39;00m\n\u001b[0;32m      2\u001b[0m t1\u001b[38;5;241m=\u001b[39m(\u001b[38;5;241m1\u001b[39m,\u001b[38;5;241m2\u001b[39m,\u001b[38;5;241m34\u001b[39m,\u001b[38;5;241m5\u001b[39m)\n\u001b[1;32m----> 3\u001b[0m \u001b[43mt1\u001b[49m\u001b[38;5;241;43m.\u001b[39;49m\u001b[43mappend\u001b[49m(\u001b[38;5;241m6\u001b[39m)\n",
      "\u001b[1;31mAttributeError\u001b[0m: 'tuple' object has no attribute 'append'"
     ]
    }
   ],
   "source": [
    "#tuple is immutable data type so it get error after any updation\n",
    "t1=(1,2,34,5)\n",
    "t1.append(6)"
   ]
  },
  {
   "cell_type": "code",
   "execution_count": null,
   "id": "e422662c",
   "metadata": {},
   "outputs": [],
   "source": []
  }
 ],
 "metadata": {
  "kernelspec": {
   "display_name": "Python 3 (ipykernel)",
   "language": "python",
   "name": "python3"
  },
  "language_info": {
   "codemirror_mode": {
    "name": "ipython",
    "version": 3
   },
   "file_extension": ".py",
   "mimetype": "text/x-python",
   "name": "python",
   "nbconvert_exporter": "python",
   "pygments_lexer": "ipython3",
   "version": "3.10.9"
  }
 },
 "nbformat": 4,
 "nbformat_minor": 5
}
